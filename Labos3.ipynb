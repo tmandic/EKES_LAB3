{
 "cells": [
  {
   "cell_type": "markdown",
   "id": "4a62f7f4",
   "metadata": {},
   "source": [
    "## UPISATI IME I PREZIME!\n",
    "# 3. LABORATORIJSKA VJEŽBA - TDR\n",
    "---\n",
    "Cilj ove laboratorijske vježbe je upoznavanje s karakteristikama TDR osciloskopa i mjerenje TDR odziva prijenosnih linija. Pri tome će se poseban naglasak staviti na upoznavanje sa sljedećim cjelinama,\n",
    "- Karakteristična impedancija prijenosnih linija\n",
    "- Vrije propagacije prijenosnih linija\n",
    "- TDR odziv prijenosnih linija\n",
    "- Izračun parametera prijenosne linije na temelju TDR odziva"
   ]
  },
  {
   "cell_type": "markdown",
   "id": "8bb6ef51",
   "metadata": {},
   "source": [
    "# PRIPREMA\n",
    "---\n",
    "1. "
   ]
  }
 ],
 "metadata": {
  "hide_input": false,
  "kernelspec": {
   "display_name": "Python 3 (ipykernel)",
   "language": "python",
   "name": "python3"
  },
  "language_info": {
   "codemirror_mode": {
    "name": "ipython",
    "version": 3
   },
   "file_extension": ".py",
   "mimetype": "text/x-python",
   "name": "python",
   "nbconvert_exporter": "python",
   "pygments_lexer": "ipython3",
   "version": "3.9.7"
  },
  "varInspector": {
   "cols": {
    "lenName": 16,
    "lenType": 16,
    "lenVar": 40
   },
   "kernels_config": {
    "python": {
     "delete_cmd_postfix": "",
     "delete_cmd_prefix": "del ",
     "library": "var_list.py",
     "varRefreshCmd": "print(var_dic_list())"
    },
    "r": {
     "delete_cmd_postfix": ") ",
     "delete_cmd_prefix": "rm(",
     "library": "var_list.r",
     "varRefreshCmd": "cat(var_dic_list()) "
    }
   },
   "types_to_exclude": [
    "module",
    "function",
    "builtin_function_or_method",
    "instance",
    "_Feature"
   ],
   "window_display": false
  }
 },
 "nbformat": 4,
 "nbformat_minor": 5
}
